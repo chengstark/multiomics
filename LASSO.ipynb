{
 "cells": [
  {
   "cell_type": "code",
   "execution_count": 27,
   "id": "unavailable-tomato",
   "metadata": {},
   "outputs": [],
   "source": [
    "import pandas as pd\n",
    "from metrics import *\n",
    "from dataloaders import *\n",
    "\n",
    "from sklearn.linear_model import Lasso\n",
    "from sklearn.model_selection import KFold"
   ]
  },
  {
   "cell_type": "code",
   "execution_count": 30,
   "id": "worthy-reggae",
   "metadata": {},
   "outputs": [
    {
     "name": "stdout",
     "output_type": "stream",
     "text": [
      "AAACAGCCAATAACGA-4    0.000000\n",
      "AAACATGCAAGCGATG-1    0.000000\n",
      "AAACCGAAGGGCTAAA-3    0.003759\n",
      "AAACCGCGTACTTCAC-3    0.000000\n",
      "AAACCGGCACTCGCTC-1    0.000000\n",
      "                        ...   \n",
      "TTTGTGTTCAATGACC-4    0.000229\n",
      "TTTGTGTTCCCATAAA-1    0.000000\n",
      "TTTGTGTTCGCCTGTT-4    0.000000\n",
      "TTTGTGTTCTAAGGAG-1    0.000000\n",
      "TTTGTTGGTCCTAAGA-1    0.000000\n",
      "Name: Target, Length: 3900, dtype: float64\n"
     ]
    }
   ],
   "source": [
    "# multiomics_clean = pd.read_csv(\"../data_csv/multiomics_svd_biplot_1_3_21.csv\")\n",
    "multiomics, target_tags = import_data(\"../data_csv/rna.csv\", '../data_csv/motif.csv', \"../data_csv/atac_mat.csv\")\n",
    "multiomics_clean = pd.read_csv(\"../data_csv/multiomics_svd_100x100.csv\")\n",
    "# multiomics_clean = pd.read_csv(\"../data_csv/multiomics_auc_500.csv\")\n",
    "\n",
    "target_tags = pd.Index(['2D10-LTR5', '2D10-Tat', '2D10-Vpu', '2D10-Env', '2D10-d2EGFP',\n",
    "       '2D10-LTR3', 'Target'])\n",
    "other_columns = multiomics.columns.drop(target_tags).drop(pd.Index([\"dataset\"]))\n",
    "\n",
    "pd_train = multiomics.loc[multiomics[\"dataset\"] == \"train\"]\n",
    "pd_test = multiomics.loc[multiomics[\"dataset\"] == \"test\"]\n",
    "pd_total = multiomics_clean"
   ]
  },
  {
   "cell_type": "code",
   "execution_count": 29,
   "id": "favorite-while",
   "metadata": {},
   "outputs": [
    {
     "name": "stdout",
     "output_type": "stream",
     "text": [
      "-0.0005493312212452306\n",
      "0.03535501470782765\n",
      "-0.003572568708699375\n",
      "0.03585943406846337\n",
      "-0.008676366890534304\n",
      "0.0391821423280031\n",
      "1.0\n"
     ]
    },
    {
     "name": "stderr",
     "output_type": "stream",
     "text": [
      "C:\\Users\\alexo\\Anaconda3\\envs\\cs474\\lib\\site-packages\\sklearn\\linear_model\\_coordinate_descent.py:529: ConvergenceWarning: Objective did not converge. You might want to increase the number of iterations. Duality gap: 0.0, tolerance: 0.0\n",
      "  model = cd_fast.enet_coordinate_descent(\n"
     ]
    }
   ],
   "source": [
    "for target_tag in target_tags:\n",
    "    y_train = (pd_train[target_tag].to_numpy()).astype(int)\n",
    "    X_train = pd_train[other_columns].to_numpy()\n",
    "    y_test = (pd_test[target_tag].to_numpy()).astype(int)\n",
    "    X_test = pd_test[other_columns].to_numpy()\n",
    "    \n",
    "    clf = Lasso(alpha=0.1)\n",
    "    clf.fit(X_train, y_train)\n",
    "    print(clf.score(X_test, y_test))"
   ]
  },
  {
   "cell_type": "code",
   "execution_count": 24,
   "id": "swedish-european",
   "metadata": {},
   "outputs": [
    {
     "name": "stdout",
     "output_type": "stream",
     "text": [
      "0.0\n",
      "-6.338485254175907e-05\n",
      "-0.0010471295842826578\n",
      "-5.992329817883224e-05\n",
      "-0.0008785836312596995\n",
      "0.01898653934510197\n",
      "0.03084512766907843\n",
      "0.0016059550876670325\n",
      "0.03592697519608834\n",
      "0.024177900147862808\n",
      "-0.0131152849740932\n",
      "-0.0003902937321718092\n",
      "-0.0007584495035601879\n",
      "-0.0003902937321718092\n",
      "-0.003297728841206826\n",
      "0.01623868649767357\n",
      "0.013756326708449729\n",
      "0.02364780013577683\n",
      "0.024523712119415064\n",
      "0.023221790357287664\n",
      "0.0003147780045816839\n",
      "-0.0007402192975782818\n",
      "-0.0037658009935570558\n",
      "-0.002514314114886451\n",
      "-0.010958904109588774\n",
      "0.018898999058510002\n",
      "0.022637219756802218\n",
      "0.01203620097942637\n",
      "0.03057968329051819\n",
      "0.021049935588481117\n",
      "0.034911057902765275\n",
      "0.03466841797809239\n",
      "0.038802646882756586\n",
      "0.04170994965184016\n",
      "0.03479196252477312\n"
     ]
    }
   ],
   "source": [
    "kf = KFold(n_splits = 5)\n",
    "\n",
    "for target_tag in target_tags:\n",
    "    X = pd_total[other_columns].to_numpy()\n",
    "    y = (pd_total[target_tag].to_numpy() > 0).astype(int)\n",
    "    \n",
    "    for splitno, indices in enumerate(kf.split(X)):\n",
    "        train_index, test_index = indices\n",
    "        X_train, X_test = X[train_index], X[test_index]\n",
    "        y_train, y_test = y[train_index], y[test_index]\n",
    "    \n",
    "#         y_train = (pd_train[target_tag].to_numpy() > 0).astype(int)\n",
    "#         X_train = pd_train[other_columns].to_numpy()\n",
    "#         y_test = (pd_test[target_tag].to_numpy() > 0).astype(int)\n",
    "#         X_test = pd_test[other_columns].to_numpy()\n",
    "\n",
    "        clf = Lasso(alpha=0.1)\n",
    "        clf.fit(X_train, y_train)\n",
    "        print(clf.score(X_test, y_test))\n",
    "\n",
    "#         y_probs = clf.predict_proba(X_test)\n",
    "#         y_preds = clf.predict(X_test)\n",
    "\n",
    "\n",
    "#         binary_metrics(y_test, y_probs[:, 1], binary=False, title=\"R.Forest, Gene {}, Split {}\".format(target_tag, splitno))\n",
    "#         binary_metrics(y_test, y_preds, title=\"RF\", binary=True)"
   ]
  },
  {
   "cell_type": "code",
   "execution_count": null,
   "id": "intellectual-performance",
   "metadata": {},
   "outputs": [],
   "source": []
  }
 ],
 "metadata": {
  "kernelspec": {
   "display_name": "Python 3",
   "language": "python",
   "name": "python3"
  },
  "language_info": {
   "codemirror_mode": {
    "name": "ipython",
    "version": 3
   },
   "file_extension": ".py",
   "mimetype": "text/x-python",
   "name": "python",
   "nbconvert_exporter": "python",
   "pygments_lexer": "ipython3",
   "version": "3.9.0"
  }
 },
 "nbformat": 4,
 "nbformat_minor": 5
}
