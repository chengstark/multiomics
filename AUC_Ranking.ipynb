{
 "cells": [
  {
   "cell_type": "markdown",
   "id": "german-light",
   "metadata": {},
   "source": [
    "# In addition to experimenting with SVD vector rankings, I look at the most predictive features by AUC.\n",
    "\n",
    "I run the algorithm described in the project writeup, computing the AUCs and measuring their distance from the worst case, 0.5."
   ]
  },
  {
   "cell_type": "code",
   "execution_count": 1,
   "id": "decent-roads",
   "metadata": {},
   "outputs": [],
   "source": [
    "from sklearn.metrics import roc_curve, auc\n",
    "import pandas as pd\n",
    "import numpy as np\n",
    "from scipy import sparse\n",
    "from dataloaders import *\n",
    "from tqdm import tqdm"
   ]
  },
  {
   "cell_type": "code",
   "execution_count": 2,
   "id": "substantial-atlas",
   "metadata": {},
   "outputs": [
    {
     "name": "stdout",
     "output_type": "stream",
     "text": [
      "Index(['AAACAGCCAATAACGA-4', 'AAACATGCAAGCGATG-1', 'AAACCGAAGGGCTAAA-3',\n",
      "       'AAACCGCGTACTTCAC-3', 'AAACCGGCACTCGCTC-1', 'AAACGCGCAATGAAGC-2',\n",
      "       'AAACGCGCAGGAATCG-4', 'AAACGGATCCGCCTCA-2', 'AAACGGATCTAGCGTG-3',\n",
      "       'AAACGTACAAGGATTA-2',\n",
      "       ...\n",
      "       'TTTGTGAAGGCGGATG-3', 'TTTGTGAAGTAAGTGG-1', 'TTTGTGGCACACAATT-3',\n",
      "       'TTTGTGGCAGGTTATT-3', 'TTTGTGTTCAACCAAC-4', 'TTTGTGTTCAATGACC-4',\n",
      "       'TTTGTGTTCCCATAAA-1', 'TTTGTGTTCGCCTGTT-4', 'TTTGTGTTCTAAGGAG-1',\n",
      "       'TTTGTTGGTCCTAAGA-1'],\n",
      "      dtype='object', length=3900)\n"
     ]
    }
   ],
   "source": [
    "multiomics, target_tags = import_data(\"../data_csv/rna.csv\", '../data_csv/motif.csv', \"../data_csv/atac_mat.csv\")\n",
    "atac = pd.read_csv(\"../data_csv/atac_sparse_csv.csv\")\n",
    "rna = pd.read_csv(\"../data_csv/rna_sparse_csv.csv\")\n",
    "motif = pd.read_csv(\"../data_csv/motif.csv\", index_col=[0]).T\n",
    "atac_sparse = sparse.csc_matrix((atac[\"x\"].to_numpy(), (atac[\"i\"].to_numpy()-1, atac[\"j\"].to_numpy()-1)), shape=(71201, 3900)).transpose()\n",
    "rna_sparse = sparse.csc_matrix((rna[\"x\"].to_numpy(), (rna[\"i\"].to_numpy()-1, rna[\"j\"].to_numpy()-1)), shape=(36597, 3900)).transpose()\n",
    "targets = rna_sparse[:, -6:]\n",
    "rna_sparse = rna_sparse[:, :-6]\n",
    "motif_sparse = sparse.csc_matrix(motif.to_numpy())\n",
    "multiomics_sparse = sparse.hstack((atac_sparse, rna_sparse, motif_sparse)).tocsr()"
   ]
  },
  {
   "cell_type": "markdown",
   "id": "a13c5b43",
   "metadata": {},
   "source": [
    "# Computing the AUCs\n",
    "\n",
    "Originally, I had two loops and computed AUCs for each individual HIV gene in addition to the total target goal, however, computing 100000 x 7 ROC-AUC scores takes multiple hours on my CPU so I removed it for the report."
   ]
  },
  {
   "cell_type": "code",
   "execution_count": null,
   "id": "australian-brunswick",
   "metadata": {
    "scrolled": true
   },
   "outputs": [
    {
     "name": "stderr",
     "output_type": "stream",
     "text": [
      " 75%|████████████████████████████████████████████████████████▎                  | 81332/108425 [56:08<19:06, 23.63it/s]"
     ]
    }
   ],
   "source": [
    "aucdict = dict()\n",
    "# for targetindex in range(7):\n",
    "aucs = []\n",
    "l1vertdist = []\n",
    "fprs = []\n",
    "tprs = []\n",
    "for i in tqdm(range(multiomics_sparse.shape[1])):\n",
    "    bin_target = (multiomics[\"Target\"].to_numpy()>0).astype(int)\n",
    "    sparsecol = multiomics_sparse[:, i]\n",
    "    bin_col = (sparsecol.toarray()>0).astype(int)\n",
    "    fpr, tpr, _ = roc_curve(bin_target,bin_col)\n",
    "    aucs.append(auc(fpr, tpr))\n",
    "    l1vertdist.append(np.sum(np.abs(tpr-fpr)))\n",
    "    fprs.append(fpr)\n",
    "    tprs.append(tpr)\n",
    "aucdict[6] = aucs\n",
    "print(aucs)"
   ]
  },
  {
   "cell_type": "code",
   "execution_count": null,
   "id": "diagnostic-fever",
   "metadata": {},
   "outputs": [],
   "source": [
    "indset = set()\n",
    "for auckey in aucdict.keys():\n",
    "    print(np.array(aucdict[auckey]).shape)\n",
    "    topvals = 100\n",
    "\n",
    "    ind = np.argpartition(np.abs(np.array(aucdict[auckey])-0.5), -topvals)[-topvals:]\n",
    "    ind = np.argpartition(l1vertdist, -topvals)[-topvals:]\n",
    "    \n",
    "    indset.update(ind.tolist())\n",
    "    print(len(indset))"
   ]
  },
  {
   "cell_type": "code",
   "execution_count": null,
   "id": "7c236384",
   "metadata": {},
   "outputs": [],
   "source": [
    "for ind in indset:\n",
    "    plt.figure()\n",
    "    plt.plot(fpr[ind], tpr[ind])"
   ]
  },
  {
   "cell_type": "code",
   "execution_count": 9,
   "id": "charming-portsmouth",
   "metadata": {},
   "outputs": [
    {
     "name": "stdout",
     "output_type": "stream",
     "text": [
      "(3900, 108)\n"
     ]
    }
   ],
   "source": [
    "# del multiomics_clean\n",
    "\n",
    "multiomics_clean = multiomics.drop(target_tags, axis=1).drop(pd.Index([\"dataset\"]), axis=1).iloc[:, list(indset)]\n",
    "multiomics_clean = pd.concat((multiomics_clean, multiomics[target_tags]), axis=1)\n",
    "multiomics_clean = pd.concat((multiomics_clean, multiomics[\"dataset\"]), axis=1)\n",
    "print(multiomics_clean.shape)"
   ]
  },
  {
   "cell_type": "code",
   "execution_count": 10,
   "id": "interpreted-substitute",
   "metadata": {},
   "outputs": [],
   "source": [
    "multiomics_clean.to_csv(\"../data_csv/multiomics_auc_dist_{}.csv\".format(len(indset)), index=None)"
   ]
  },
  {
   "cell_type": "code",
   "execution_count": null,
   "id": "e1b26a99",
   "metadata": {},
   "outputs": [],
   "source": []
  }
 ],
 "metadata": {
  "kernelspec": {
   "display_name": "Python 3 (ipykernel)",
   "language": "python",
   "name": "python3"
  },
  "language_info": {
   "codemirror_mode": {
    "name": "ipython",
    "version": 3
   },
   "file_extension": ".py",
   "mimetype": "text/x-python",
   "name": "python",
   "nbconvert_exporter": "python",
   "pygments_lexer": "ipython3",
   "version": "3.9.0"
  }
 },
 "nbformat": 4,
 "nbformat_minor": 5
}
