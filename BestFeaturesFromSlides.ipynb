{
 "cells": [
  {
   "cell_type": "markdown",
   "id": "b515536f",
   "metadata": {},
   "source": [
    "# Simple notebook manually parsing the best features from the list I grabbed from Dr. Jiang's previous work with the dataset. Manually scraped, treated and sent to a csv."
   ]
  },
  {
   "cell_type": "code",
   "execution_count": 1,
   "id": "figured-conducting",
   "metadata": {},
   "outputs": [],
   "source": [
    "import pandas as pd\n",
    "import numpy as np\n",
    "from scipy import sparse\n",
    "from dataloaders import *"
   ]
  },
  {
   "cell_type": "code",
   "execution_count": 2,
   "id": "chief-temple",
   "metadata": {},
   "outputs": [
    {
     "name": "stdout",
     "output_type": "stream",
     "text": [
      "Index(['AAACAGCCAATAACGA-4', 'AAACATGCAAGCGATG-1', 'AAACCGAAGGGCTAAA-3',\n",
      "       'AAACCGCGTACTTCAC-3', 'AAACCGGCACTCGCTC-1', 'AAACGCGCAATGAAGC-2',\n",
      "       'AAACGCGCAGGAATCG-4', 'AAACGGATCCGCCTCA-2', 'AAACGGATCTAGCGTG-3',\n",
      "       'AAACGTACAAGGATTA-2',\n",
      "       ...\n",
      "       'TTTGTGAAGGCGGATG-3', 'TTTGTGAAGTAAGTGG-1', 'TTTGTGGCACACAATT-3',\n",
      "       'TTTGTGGCAGGTTATT-3', 'TTTGTGTTCAACCAAC-4', 'TTTGTGTTCAATGACC-4',\n",
      "       'TTTGTGTTCCCATAAA-1', 'TTTGTGTTCGCCTGTT-4', 'TTTGTGTTCTAAGGAG-1',\n",
      "       'TTTGTTGGTCCTAAGA-1'],\n",
      "      dtype='object', length=3900)\n"
     ]
    }
   ],
   "source": [
    "multiomics, target_tags = import_data(\"../data_csv/rna.csv\", '../data_csv/motif.csv', \"../data_csv/atac_mat.csv\")\n",
    "atac = pd.read_csv(\"../data_csv/atac_sparse_csv.csv\")\n",
    "rna = pd.read_csv(\"../data_csv/rna_sparse_csv.csv\")\n",
    "motif = pd.read_csv(\"../data_csv/motif.csv\", index_col=[0]).T\n",
    "atac_sparse = sparse.csc_matrix((atac[\"x\"].to_numpy(), (atac[\"i\"].to_numpy()-1, atac[\"j\"].to_numpy()-1)), shape=(71201, 3900)).transpose()\n",
    "rna_sparse = sparse.csc_matrix((rna[\"x\"].to_numpy(), (rna[\"i\"].to_numpy()-1, rna[\"j\"].to_numpy()-1)), shape=(36597, 3900)).transpose()\n",
    "targets = rna_sparse[:, -6:]\n",
    "rna_sparse = rna_sparse[:, :-6]\n",
    "motif_sparse = sparse.csc_matrix(motif.to_numpy())\n",
    "multiomics_sparse = sparse.hstack((atac_sparse, rna_sparse, motif_sparse)).tocsr()"
   ]
  },
  {
   "cell_type": "code",
   "execution_count": 9,
   "id": "applied-giving",
   "metadata": {},
   "outputs": [],
   "source": [
    "best_rna_tags = [\"TSPOAP1\", \"MALAT1\", \"NEAT1\", \"ZFPM2-AS1\", \"ANXA1\", \"CD69\", \"TRAC\", \"RPL36\", \"CELF2\"]"
   ]
  },
  {
   "cell_type": "code",
   "execution_count": 10,
   "id": "engaging-purple",
   "metadata": {},
   "outputs": [],
   "source": [
    "best_motif_tags = [\"SNAI2\", \"ELF1\", \"GABPA\", \"ETV6\", \"EHF\", \"ETV1\", \"SNAI3\", \"ETV4\", \"GATA3\"]"
   ]
  },
  {
   "cell_type": "code",
   "execution_count": 11,
   "id": "stylish-georgia",
   "metadata": {},
   "outputs": [
    {
     "name": "stdout",
     "output_type": "stream",
     "text": [
      "['TSPOAP1', 'MALAT1', 'NEAT1', 'ZFPM2-AS1', 'ANXA1', 'CD69', 'TRAC', 'RPL36', 'CELF2', 'SNAI2', 'ELF1', 'GABPA', 'ETV6', 'EHF', 'ETV1', 'SNAI3', 'ETV4', 'GATA3']\n"
     ]
    }
   ],
   "source": [
    "best_tags = best_rna_tags + best_motif_tags\n",
    "print(best_tags)"
   ]
  },
  {
   "cell_type": "code",
   "execution_count": 14,
   "id": "greek-bookmark",
   "metadata": {},
   "outputs": [
    {
     "name": "stdout",
     "output_type": "stream",
     "text": [
      "(3900, 26)\n"
     ]
    }
   ],
   "source": [
    "multiomics_best = multiomics[best_tags]\n",
    "multiomics_best = pd.concat((multiomics_best, multiomics[target_tags]), axis=1)\n",
    "multiomics_best = pd.concat((multiomics_best, multiomics[\"dataset\"]), axis=1)\n",
    "\n",
    "print(multiomics_best.shape)"
   ]
  },
  {
   "cell_type": "code",
   "execution_count": 15,
   "id": "secondary-syndication",
   "metadata": {},
   "outputs": [],
   "source": [
    "multiomics_best.to_csv(\"../data_csv/multiomics_best_slides.csv\", index=None)"
   ]
  }
 ],
 "metadata": {
  "kernelspec": {
   "display_name": "Python 3 (ipykernel)",
   "language": "python",
   "name": "python3"
  },
  "language_info": {
   "codemirror_mode": {
    "name": "ipython",
    "version": 3
   },
   "file_extension": ".py",
   "mimetype": "text/x-python",
   "name": "python",
   "nbconvert_exporter": "python",
   "pygments_lexer": "ipython3",
   "version": "3.9.0"
  }
 },
 "nbformat": 4,
 "nbformat_minor": 5
}
