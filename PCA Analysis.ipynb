{
 "cells": [
  {
   "cell_type": "markdown",
   "id": "2aeca533",
   "metadata": {},
   "source": [
    "# PCA/SVD Analysis\n",
    "\n",
    "In this notebook, I process my data and filter it using my SVD algorithm described in my report."
   ]
  },
  {
   "cell_type": "code",
   "execution_count": 1,
   "id": "subtle-brake",
   "metadata": {},
   "outputs": [],
   "source": [
    "import numpy as np\n",
    "import matplotlib.pyplot as plt\n",
    "from dataloaders import *\n",
    "from scipy import sparse\n",
    "from scipy.sparse.linalg import svds, eigs\n",
    "import pandas as pd\n",
    "from tqdm import tqdm\n",
    "from sklearn import preprocessing\n",
    "from sklearn.decomposition import TruncatedSVD\n",
    "from sklearn.preprocessing import StandardScaler"
   ]
  },
  {
   "cell_type": "markdown",
   "id": "3d338c93",
   "metadata": {},
   "source": [
    "# Import the data"
   ]
  },
  {
   "cell_type": "code",
   "execution_count": 2,
   "id": "material-analysis",
   "metadata": {},
   "outputs": [
    {
     "name": "stdout",
     "output_type": "stream",
     "text": [
      "Index(['AAACAGCCAATAACGA-4', 'AAACATGCAAGCGATG-1', 'AAACCGAAGGGCTAAA-3',\n",
      "       'AAACCGCGTACTTCAC-3', 'AAACCGGCACTCGCTC-1', 'AAACGCGCAATGAAGC-2',\n",
      "       'AAACGCGCAGGAATCG-4', 'AAACGGATCCGCCTCA-2', 'AAACGGATCTAGCGTG-3',\n",
      "       'AAACGTACAAGGATTA-2',\n",
      "       ...\n",
      "       'TTTGTGAAGGCGGATG-3', 'TTTGTGAAGTAAGTGG-1', 'TTTGTGGCACACAATT-3',\n",
      "       'TTTGTGGCAGGTTATT-3', 'TTTGTGTTCAACCAAC-4', 'TTTGTGTTCAATGACC-4',\n",
      "       'TTTGTGTTCCCATAAA-1', 'TTTGTGTTCGCCTGTT-4', 'TTTGTGTTCTAAGGAG-1',\n",
      "       'TTTGTTGGTCCTAAGA-1'],\n",
      "      dtype='object', length=3900)\n"
     ]
    }
   ],
   "source": [
    "multiomics, target_tags = import_data(\"../data_csv/rna.csv\", '../data_csv/motif.csv', \"../data_csv/atac_mat.csv\")"
   ]
  },
  {
   "cell_type": "code",
   "execution_count": 3,
   "id": "verbal-strain",
   "metadata": {},
   "outputs": [],
   "source": [
    "atac = pd.read_csv(\"../data_csv/atac_sparse_csv.csv\")\n",
    "rna = pd.read_csv(\"../data_csv/rna_sparse_csv.csv\")\n",
    "motif = pd.read_csv(\"../data_csv/motif.csv\", index_col=[0]).T"
   ]
  },
  {
   "cell_type": "code",
   "execution_count": 7,
   "id": "covered-reader",
   "metadata": {},
   "outputs": [
    {
     "name": "stdout",
     "output_type": "stream",
     "text": [
      "(3900, 36597)\n",
      "(3900, 71201)\n",
      "(3900, 633)\n"
     ]
    }
   ],
   "source": [
    "atac_sparse = sparse.csc_matrix((atac[\"x\"].to_numpy(), (atac[\"i\"].to_numpy()-1, atac[\"j\"].to_numpy()-1)), shape=(71201, 3900)).transpose()\n",
    "rna_sparse = sparse.csc_matrix((rna[\"x\"].to_numpy(), (rna[\"i\"].to_numpy()-1, rna[\"j\"].to_numpy()-1)), shape=(36597, 3900)).transpose()\n",
    "print(rna_sparse.shape)\n",
    "print(atac_sparse.shape)\n",
    "targets = rna_sparse[:, -6:]\n",
    "rna_sparse = rna_sparse[:, :-6]\n",
    "motif_sparse = sparse.csc_matrix(motif.to_numpy())\n",
    "print(motif_sparse.shape)"
   ]
  },
  {
   "cell_type": "markdown",
   "id": "statewide-madonna",
   "metadata": {},
   "source": [
    "# Combine and Normalize\n",
    "\n",
    "SVD requires normalized features to work correctly, so I normalize here."
   ]
  },
  {
   "cell_type": "code",
   "execution_count": 9,
   "id": "valued-divorce",
   "metadata": {},
   "outputs": [
    {
     "name": "stdout",
     "output_type": "stream",
     "text": [
      "(3900, 108425)\n"
     ]
    }
   ],
   "source": [
    "multiomics_sparse = sparse.hstack((atac_sparse, rna_sparse, motif_sparse))\n",
    "print(multiomics_sparse.shape)\n",
    "c = multiomics_sparse.copy()\n",
    "c.data **= 2\n",
    "means = multiomics_sparse.mean(0)\n",
    "meanssquared = np.square(means)\n",
    "squaredmeans = c.mean(0)\n",
    "variances = squaredmeans - meanssquared\n",
    "variances = np.where(variances != 0, variances, np.ones(variances.shape))"
   ]
  },
  {
   "cell_type": "code",
   "execution_count": 10,
   "id": "collect-crack",
   "metadata": {},
   "outputs": [],
   "source": [
    "multiomics_sparse_shifted = multiomics_sparse-means\n",
    "divider = sparse.diags(np.asarray(1/variances)[0, :])\n",
    "multiomics_sparse_normalized = multiomics_sparse_shifted @ divider"
   ]
  },
  {
   "cell_type": "markdown",
   "id": "established-gibson",
   "metadata": {},
   "source": [
    "# Compute SVD"
   ]
  },
  {
   "cell_type": "code",
   "execution_count": 11,
   "id": "public-cooperative",
   "metadata": {},
   "outputs": [],
   "source": [
    "# Parameters\n",
    "\n",
    "k = 100\n",
    "topvals = 100"
   ]
  },
  {
   "cell_type": "code",
   "execution_count": 12,
   "id": "reported-glory",
   "metadata": {},
   "outputs": [],
   "source": [
    "u, s, vt = svds(multiomics_sparse_normalized, k=k)"
   ]
  },
  {
   "cell_type": "code",
   "execution_count": 13,
   "id": "simple-weekend",
   "metadata": {
    "scrolled": false
   },
   "outputs": [
    {
     "name": "stdout",
     "output_type": "stream",
     "text": [
      "(3900, 100)\n",
      "(100, 108425)\n",
      "[ 7866.21333963  7877.82197257  7886.52777461  7892.73424061\n",
      "  7900.13059714  7900.75865406  7904.14068939  7908.62739499\n",
      "  7920.73412122  7928.75045305  7934.18627624  7942.20423516\n",
      "  7944.86611085  7956.60972176  7957.02811073  7966.45897758\n",
      "  7974.61638031  7975.79034695  7977.85144147  7988.64624918\n",
      "  7999.50216632  8000.55374076  8010.97578547  8020.31487907\n",
      "  8029.46431272  8046.05991084  8062.70829258  8091.72299411\n",
      "  8099.52175847  8102.05704056  8108.79925548  8117.14033113\n",
      "  8121.45635145  8135.69599106  8149.28511555  8151.05835462\n",
      "  8179.26583433  8189.36357139  8196.76703834  8208.30062435\n",
      "  8214.85880125  8217.38262505  8232.17412541  8239.07332659\n",
      "  8244.3005919   8305.65273759  8309.74385773  8322.41265349\n",
      "  8348.62980634  8367.66525306  8371.61631699  8385.22886603\n",
      "  8399.98771847  8426.61487767  8428.07248941  8450.65164412\n",
      "  8476.71069599  8490.44353021  8496.66667296  8499.13109217\n",
      "  8517.30170891  8534.26743084  8542.50716991  8558.74533821\n",
      "  8597.62536573  8618.77708269  8632.36199174  8669.06847636\n",
      "  8676.76052863  8732.24889815  8760.61030854  8858.49227367\n",
      "  8909.16439028  8920.33149364  8972.17984509  8995.98937353\n",
      "  9057.60609785  9087.66284435  9093.64962316  9098.85564332\n",
      "  9105.11126328  9177.71194815  9178.64551953  9257.46759444\n",
      "  9279.0708115   9294.85900742  9302.84197112  9354.43732196\n",
      "  9406.76682337  9484.85913116  9562.29092445  9616.97673503\n",
      "  9736.46649307  9764.40083865  9802.9193601  10213.40032044\n",
      " 10342.72166036 10462.92162774 10714.53243914 11074.36325625]\n"
     ]
    }
   ],
   "source": [
    "print(u.shape)\n",
    "print(vt.shape)\n",
    "print(s)"
   ]
  },
  {
   "cell_type": "code",
   "execution_count": 14,
   "id": "refined-sheriff",
   "metadata": {},
   "outputs": [
    {
     "data": {
      "text/plain": [
       "<matplotlib.collections.PathCollection at 0x15b4490c9d0>"
      ]
     },
     "execution_count": 14,
     "metadata": {},
     "output_type": "execute_result"
    },
    {
     "data": {
      "image/png": "[encoded data removed]",
      "text/plain": [
       "<Figure size 432x288 with 1 Axes>"
      ]
     },
     "metadata": {
      "needs_background": "light"
     },
     "output_type": "display_data"
    }
   ],
   "source": [
    "import matplotlib.pyplot as plt\n",
    "plots = s[-k:]\n",
    "plt.scatter(np.arange(len(plots)), plots)"
   ]
  },
  {
   "cell_type": "markdown",
   "id": "7631a8f0",
   "metadata": {},
   "source": [
    "A plot of the ranked magnitudes of the singular values. Note the negative indexing as the largest value is always at the end."
   ]
  },
  {
   "cell_type": "markdown",
   "id": "d4850f36",
   "metadata": {},
   "source": [
    "### Compute the N top eigenvectors, get their top M indices"
   ]
  },
  {
   "cell_type": "code",
   "execution_count": 15,
   "id": "immediate-projection",
   "metadata": {},
   "outputs": [
    {
     "name": "stdout",
     "output_type": "stream",
     "text": [
      "Percentage unique: 0.3789\n",
      "Unique length: 3789, total number of checked values: 10000\n"
     ]
    }
   ],
   "source": [
    "# Take top 100 svd vectors (highest singluar values)\n",
    "eigenvectors = vt[-k:, :]\n",
    "eigenvectors = np.abs(eigenvectors)\n",
    "# For each of the top 100, take their highest value entries. \n",
    "# These are the most important features for the most important V vectors.\n",
    "uniquevals = set()\n",
    "for vector in eigenvectors:\n",
    "    ind = np.argpartition(vector, -topvals)[-topvals:]\n",
    "    uniquevals.update(ind.tolist())\n",
    "ranked_indices = list(uniquevals)\n",
    "print(\"Percentage unique: {}\".format(len(uniquevals)/(k*topvals)))\n",
    "print(\"Unique length: {}, total number of checked values: {}\".format(len(uniquevals), k*topvals))"
   ]
  },
  {
   "cell_type": "markdown",
   "id": "8d2589b3",
   "metadata": {},
   "source": [
    "### Calculate the datasets from which the ranked indices come from. Note the lack of any motif data."
   ]
  },
  {
   "cell_type": "code",
   "execution_count": 16,
   "id": "covered-employment",
   "metadata": {},
   "outputs": [
    {
     "name": "stdout",
     "output_type": "stream",
     "text": [
      "0.312219583003431\n",
      "0.687780416996569\n",
      "0\n"
     ]
    },
    {
     "name": "stderr",
     "output_type": "stream",
     "text": [
      "C:\\Users\\alexo\\AppData\\Local\\Temp/ipykernel_11024/2527857600.py:12: DeprecationWarning: elementwise comparison failed; this will raise an error in the future.\n",
      "  percent_motifs = np.sum(npidx[npidx in motif_indices])\n"
     ]
    }
   ],
   "source": [
    "npidx = np.array(ranked_indices)\n",
    "\n",
    "atac_indices = np.arange(0, atac_sparse.shape[1], 1)\n",
    "rna_indices = np.arange(atac_sparse.shape[1], atac_sparse.shape[1]+rna_sparse.shape[1], 1)\n",
    "motif_indices = np.arange(atac_sparse.shape[1]+rna_sparse.shape[1], multiomics_sparse.shape[1], 1)\n",
    "\n",
    "percent_atac = np.sum([npidx[i] in atac_indices for i in range(npidx.shape[0])])/len(ranked_indices)\n",
    "percent_rna = np.sum([npidx[i] in rna_indices for i in range(npidx.shape[0])])/len(ranked_indices)\n",
    "percent_motifs = np.sum([npidx[i] in rna_indices for i in range(npidx.shape[0])])/len(ranked_indices)\n",
    "\n",
    "\n",
    "percent_motifs = np.sum(npidx[npidx in motif_indices])\n",
    "\n",
    "print(percent_atac)\n",
    "print(percent_rna)\n",
    "print(percent_motifs)\n",
    "\n",
    "best_motif_tags = [\"SNAI2\", \"ELF1\", \"GABPA\", \"ETV6\", \"EHF\", \"ETV1\", \"SNAI3\", \"ETV4\", \"GATA3\"]"
   ]
  },
  {
   "cell_type": "markdown",
   "id": "earlier-reason",
   "metadata": {},
   "source": [
    "### Format and save to CSV"
   ]
  },
  {
   "cell_type": "code",
   "execution_count": 17,
   "id": "indoor-climb",
   "metadata": {
    "scrolled": true
   },
   "outputs": [
    {
     "name": "stdout",
     "output_type": "stream",
     "text": [
      "(3900, 3797)\n"
     ]
    }
   ],
   "source": [
    "multiomics_indices = multiomics.drop(target_tags, axis=1).drop(pd.Index([\"dataset\"]), axis=1)\n",
    "multiomics_clean = multiomics_indices.iloc[:, ranked_indices]\n",
    "# multiomics_clean = pd.concat((multiomics_clean, multiomics[best_motif_tags]), axis=1)\n",
    "multiomics_clean = pd.concat((multiomics_clean, multiomics[target_tags]), axis=1)\n",
    "multiomics_clean = pd.concat((multiomics_clean, multiomics[\"dataset\"]), axis=1)\n",
    "\n",
    "print(multiomics_clean.shape)"
   ]
  },
  {
   "cell_type": "code",
   "execution_count": 18,
   "id": "bottom-partnership",
   "metadata": {},
   "outputs": [],
   "source": [
    "multiomics_clean.to_csv(\"../data_csv/multiomics_svd_{}x{}_final.csv\".format(k, topvals), index=None)"
   ]
  },
  {
   "cell_type": "markdown",
   "id": "guilty-option",
   "metadata": {},
   "source": [
    "# (DEPRECATED) PCA Biplot"
   ]
  },
  {
   "cell_type": "code",
   "execution_count": 8,
   "id": "interior-flush",
   "metadata": {},
   "outputs": [
    {
     "data": {
      "text/plain": [
       "<3900x108425 sparse matrix of type '<class 'numpy.float64'>'\n",
       "\twith 22902952 stored elements in COOrdinate format>"
      ]
     },
     "execution_count": 8,
     "metadata": {},
     "output_type": "execute_result"
    }
   ],
   "source": [
    "multiomics_sparse"
   ]
  },
  {
   "cell_type": "code",
   "execution_count": 31,
   "id": "numeric-welding",
   "metadata": {},
   "outputs": [],
   "source": [
    "def myplot(y, score,coeff,labels=None):\n",
    "    xs = score[:,0]\n",
    "    ys = score[:,1]\n",
    "    n = coeff.shape[0]\n",
    "    scalex = 1.0/(xs.max() - xs.min())\n",
    "    scaley = 1.0/(ys.max() - ys.min())\n",
    "    plt.scatter(xs * scalex,ys * scaley, c = y)\n",
    "    for i in tqdm(range(n)):\n",
    "        plt.arrow(0, 0, coeff[i,0], coeff[i,1],color = 'r',alpha = 0.5)\n",
    "        if labels is None:\n",
    "            plt.text(coeff[i,0]* 1.15, coeff[i,1] * 1.15, \"Var\"+str(i+1), color = 'g', ha = 'center', va = 'center')\n",
    "        else:\n",
    "            plt.text(coeff[i,0]* 1.15, coeff[i,1] * 1.15, labels[i], color = 'g', ha = 'center', va = 'center')\n",
    "    plt.xlim(-1,1)\n",
    "    plt.ylim(-1,1)\n",
    "    plt.xlabel(\"PC{}\".format(1))\n",
    "    plt.ylabel(\"PC{}\".format(2))\n",
    "    plt.grid()"
   ]
  },
  {
   "cell_type": "code",
   "execution_count": 32,
   "id": "forbidden-capture",
   "metadata": {},
   "outputs": [
    {
     "name": "stdout",
     "output_type": "stream",
     "text": [
      "(3900, 10)\n",
      "(10, 108425)\n"
     ]
    }
   ],
   "source": [
    "# topvals = 26\n",
    "component0 = 0\n",
    "component1 = 2\n",
    "\n",
    "svd = TruncatedSVD(n_components=10)\n",
    "multiomics_svd = svd.fit_transform(multiomics_sparse_normalized)\n",
    "\n",
    "print(multiomics_svd.shape)\n",
    "print(svd.components_.shape)"
   ]
  },
  {
   "cell_type": "code",
   "execution_count": 24,
   "id": "ranging-kernel",
   "metadata": {},
   "outputs": [
    {
     "name": "stderr",
     "output_type": "stream",
     "text": [
      "100%|████████████████████████████████████████████████████████████████████████| 108425/108425 [01:09<00:00, 1559.82it/s]\n"
     ]
    },
    {
     "data": {
      "image/png": "[encoded data removed]",
      "text/plain": [
       "<Figure size 432x288 with 1 Axes>"
      ]
     },
     "metadata": {
      "needs_background": "light"
     },
     "output_type": "display_data"
    }
   ],
   "source": [
    "myplot(targets[:, 5].toarray(), multiomics_svd[:,component0:component1],np.transpose(svd.components_[component0:component1,:]))\n",
    "plt.show()"
   ]
  },
  {
   "cell_type": "code",
   "execution_count": 33,
   "id": "expired-flower",
   "metadata": {},
   "outputs": [
    {
     "name": "stdout",
     "output_type": "stream",
     "text": [
      "[ 77841  79194  80109  80351  84152  84881  85034  92418  94634  97395\n",
      "  98995 100180 101427 101897 104214 105064 105556 106649]\n",
      "[0.17863099 0.3437387  0.3437387  0.3437387  0.3437387  0.17751049\n",
      " 0.3437387  0.18061369 0.34281812 0.11909921 0.17839728 0.18035403\n",
      " 0.17744514 0.34281812 0.3437387  0.17809432 0.34281812 0.34281812]\n"
     ]
    }
   ],
   "source": [
    "topcoeffs = svd.components_[component0:component1, :]\n",
    "topnorms = np.linalg.norm(topcoeffs, axis=0)\n",
    "\n",
    "ranked = np.argpartition(topnorms, -topvals)[-topvals:]\n",
    "ranked = (topnorms > 0.1).nonzero()[0]\n",
    "\n",
    "print(ranked)\n",
    "print(topnorms[ranked])"
   ]
  },
  {
   "cell_type": "code",
   "execution_count": 34,
   "id": "german-running",
   "metadata": {},
   "outputs": [
    {
     "name": "stdout",
     "output_type": "stream",
     "text": [
      "(3900, 26)\n",
      "0\n",
      "2\n",
      "18\n"
     ]
    }
   ],
   "source": [
    "multiomics_indices = multiomics.drop(target_tags, axis=1).drop(pd.Index([\"dataset\"]), axis=1)\n",
    "multiomics_clean = multiomics_indices.iloc[:, ranked]\n",
    "multiomics_clean = pd.concat((multiomics_clean, multiomics[target_tags]), axis=1)\n",
    "multiomics_clean = pd.concat((multiomics_clean, multiomics[\"dataset\"]), axis=1)\n",
    "print(multiomics_clean.shape)\n",
    "\n",
    "print(component0)\n",
    "print(component1)\n",
    "print(len(ranked))"
   ]
  },
  {
   "cell_type": "code",
   "execution_count": 30,
   "id": "concerned-vocabulary",
   "metadata": {},
   "outputs": [],
   "source": [
    "multiomics_clean.to_csv(\"../data_csv/multiomics_svd_biplot_{}_{}_{}.csv\".format(component0, component1, len(ranked)), index=None)"
   ]
  }
 ],
 "metadata": {
  "kernelspec": {
   "display_name": "Python 3 (ipykernel)",
   "language": "python",
   "name": "python3"
  },
  "language_info": {
   "codemirror_mode": {
    "name": "ipython",
    "version": 3
   },
   "file_extension": ".py",
   "mimetype": "text/x-python",
   "name": "python",
   "nbconvert_exporter": "python",
   "pygments_lexer": "ipython3",
   "version": "3.9.0"
  }
 },
 "nbformat": 4,
 "nbformat_minor": 5
}
